{
  "metadata": {
    "kernelspec": {
      "name": "python",
      "display_name": "Python (Pyodide)",
      "language": "python"
    },
    "language_info": {
      "codemirror_mode": {
        "name": "python",
        "version": 3
      },
      "file_extension": ".py",
      "mimetype": "text/x-python",
      "name": "python",
      "nbconvert_exporter": "python",
      "pygments_lexer": "ipython3",
      "version": "3.8"
    }
  },
  "nbformat_minor": 5,
  "nbformat": 4,
  "cells": [
    {
      "id": "f43c5a98-479c-4a5b-95c0-6b51f3d1c6bb",
      "cell_type": "code",
      "source": "##### Question.1. Explain the key features of Python that make it a popular choice for programming.\n\n##### Answer. Python is a programming language that is widely used and loved due to it’s easy to understand and write nature. It is incredibly versatile, with applications ranging from web development and data science to machine learning and automation. \n#It is rich in standard library and extensive community support provide tools and resources for almost any task. It integrates well with other languages.\n#Python has many key features and few are below:\n#Ease of Learning and Use -\n#Python’s syntax is clean, readable, and closer to natural language, making it easier to learn and write code.\n#Python eliminates the need for verbose coding, which reduces development time and effort.\n#Versatility -\n#Supports multiple programming paradigms such as object-oriented, procedural, and functional programming.\n#Used in diverse fields like web development, data science, machine learning, artificial intelligence, scientific computing, automation, and more.\n#Rich Standard Library -\n#Comes with an extensive standard library that provides modules and functions for various tasks like file I/O, networking, and data manipulation, reducing the need for external libraries.\n#Platform Independence \n#Interpreted Language \n#Extensibility and Integration -\n#Libraries like Pandas, NumPy, Matplotlib, Scikit-learn, and TensorFlow make Python a go-to language for data analysis, visualization, and machine learning applications.\n",
      "metadata": {
        "trusted": true
      },
      "outputs": [],
      "execution_count": 1
    },
    {
      "id": "44a61c40-f674-4e2e-b126-cccf6ba633bf",
      "cell_type": "code",
      "source": "#### Question.2. Describe the role of predefined keywords in Python and provide examples of how they are used in a program.\n\n#### Answer. Python has a variety of predefined keywords. Predefined keywords in Python are reserved words that have special meanings and are integral to the language's syntax and functionality. These keywords serve as building blocks for writing Python programs and are used to define control flow, declare variables, create functions, and much more. Because they are reserved, they cannot be used as variable, function, or identifier names.\n#They form the foundation for writing logical, organized, and functional Python code. These keywords are essential for the structure and syntax of Python programs, as they define the rules and behaviors of various programming constructs.\n#Key Functions of Predefined Keywords -\n#Control Program Flow: Keywords like if, else, elif, for, while, and break allow developers to control the execution of code based on conditions or loops.\n#Define Functions and Classes: Keywords such as def, class, return, and self are used to declare and manage functions, methods, and classes.\n#Manage Scope: global and nonlocal help define variable scope and control how variables interact within nested functions or modules.\n#Handle Errors and Exceptions: Keywords like try, except, finally, and raise allow programmers to gracefully handle runtime errors and exceptions.\n#Logical and Relational Operations: and, or, not, in, and is facilitate logical operations, making it easier to write conditional expressions.\n#Boolean and Null Values: Keywords True, False, and None represent boolean constants and null objects, which are frequently used in logic and object initialization.\n#Code Organization: import, from, and as help in modular programming by allowing the use of external libraries and custom modules.\n#Miscellaneous: Keywords like pass act as placeholders, and with simplifies resource management (e.g., handling files).\n\n#Example with \"if\"\na=5\nb=2\nif a>b:\n    print(\"a is greater\")",
      "metadata": {
        "trusted": true
      },
      "outputs": [
        {
          "name": "stdout",
          "output_type": "stream",
          "text": "a is greater\n"
        }
      ],
      "execution_count": 19
    },
    {
      "id": "3cd21971-6457-4816-a5cb-7f11759156e9",
      "cell_type": "code",
      "source": "#else\na=2\nb=5\nif a>b:\n    print(\"a is greater\")\nelse:\n    print(\"a is not greater\")",
      "metadata": {
        "trusted": true
      },
      "outputs": [
        {
          "name": "stdout",
          "output_type": "stream",
          "text": "a is not greater\n"
        }
      ],
      "execution_count": 7
    },
    {
      "id": "cdc36e39-e28e-472f-b556-43b8dca384be",
      "cell_type": "code",
      "source": "#elif\nstate=\"Delhi\"\nage=18\nif ((state == \"Delhi\") & (age>18)):\n    print(\"Passed\")\nelif ((age==18)&(state==\"Delhi\")) :\n    print(\"Under age\")\nelse:\n    print(\"Satate not find\")",
      "metadata": {
        "trusted": true
      },
      "outputs": [
        {
          "name": "stdout",
          "output_type": "stream",
          "text": "Under age\n"
        }
      ],
      "execution_count": 19
    },
    {
      "id": "7c1fb34d-9d91-495f-ab80-d3868ff0e6bb",
      "cell_type": "code",
      "source": "#Nested if\na=5\nb=2\nif a >= 5:\n    if b > 2:\n        print(\"both are greater\")\n    else:\n        print(\"only a is greater\")\nelse:\n    print(\"No one is greater\")",
      "metadata": {
        "trusted": true
      },
      "outputs": [
        {
          "name": "stdout",
          "output_type": "stream",
          "text": "only a is greater\n"
        }
      ],
      "execution_count": 23
    },
    {
      "id": "ffa7c012-df0c-4ed1-873a-1c2fa3aca761",
      "cell_type": "code",
      "source": "#for loop\nfor i in range(3):\n    for j in range(3):\n        print(\"$\", end=\" \")\n    print()    ",
      "metadata": {
        "trusted": true
      },
      "outputs": [
        {
          "name": "stdout",
          "output_type": "stream",
          "text": "$ $ $ \n$ $ $ \n$ $ $ \n"
        }
      ],
      "execution_count": 24
    },
    {
      "id": "a52f84ea-28ed-4386-9ca4-687381a52fd7",
      "cell_type": "code",
      "source": "#while loop with break\na=5\nwhile a>=0:\n    print (a)\n    a=a-1\n    if a == 3:\n        break",
      "metadata": {
        "trusted": true
      },
      "outputs": [
        {
          "name": "stdout",
          "output_type": "stream",
          "text": "5\n4\n"
        }
      ],
      "execution_count": 4
    },
    {
      "id": "2a04ff1d-5057-4522-af6f-cc5630080fa5",
      "cell_type": "code",
      "source": "#while loop with continue\na=5\nb=2\nwhile a>b:\n    a = a-1\n    if a == 3:\n        continue\n    print(a)    \n    ",
      "metadata": {
        "trusted": true
      },
      "outputs": [
        {
          "name": "stdout",
          "output_type": "stream",
          "text": "4\n2\n"
        }
      ],
      "execution_count": 4
    },
    {
      "id": "066606e3-9b42-4573-a12d-1b7724cc479f",
      "cell_type": "code",
      "source": "#for loop with break\nnumber=[1,2,3,4,5]\nfor num in number:\n    if num == 3 :\n        break\n    print(num)   ",
      "metadata": {
        "trusted": true
      },
      "outputs": [
        {
          "name": "stdout",
          "output_type": "stream",
          "text": "1\n2\n"
        }
      ],
      "execution_count": 15
    },
    {
      "id": "4569f6cf-e301-498e-b714-55d877152549",
      "cell_type": "code",
      "source": "#for loop with continue\nfor i in range(10):\n    if i%2 != 0:\n        continue\n    print(i)    \n\n",
      "metadata": {
        "trusted": true
      },
      "outputs": [
        {
          "name": "stdout",
          "output_type": "stream",
          "text": "0\n2\n4\n6\n8\n"
        }
      ],
      "execution_count": 17
    },
    {
      "id": "bd14a722-5add-48b0-a186-03dd734c4033",
      "cell_type": "code",
      "source": "#### Question.3  Compare and contrast mutable and immutable objects in Python with examples.\n\n#### Answer. In Python, objects are classified as either mutable or immutable based on whether their internal state (data) can be modified after the object is created.\n#Mutable objects are those whose content can be modified after creation. This means you can change, add, or remove elements of the object without creating a new one. Common examples of mutable objects include lists, dictionaries, and sets.\n# Create a list (mutable object)\nmy_list = [1, 2, 3]\n\n# Modify the list by appending an element\nmy_list.append(4)\n\n# Print the modified list\nprint(\"Modified List:\", my_list)  # Output: Modified List: [1, 2, 3, 4]\n#Immutable objects, on the other hand, cannot be changed once they are created. Any operation that appears to modify an immutable object actually creates a new object with the updated value, leaving the original object unchanged. Examples of immutable objects include strings, tuples, and numbers (integers, floats).\n# Create a string (immutable object)\nmy_string = \"Hello\"\n\n# Attempt to modify the string\nnew_string = my_string + \" World\"\n\n# Print both strings\nprint(\"Original String:\", my_string)  # Output: Original String: Hello\nprint(\"New String:\", new_string)      # Output: New String: Hello World\n",
      "metadata": {
        "trusted": true
      },
      "outputs": [
        {
          "name": "stdout",
          "output_type": "stream",
          "text": "Modified List: [1, 2, 3, 4]\nOriginal String: Hello\nNew String: Hello World\n"
        }
      ],
      "execution_count": 21
    },
    {
      "id": "15fa349a-72d5-4d03-8079-69989dadc6c3",
      "cell_type": "code",
      "source": "a= \"tony\"\na[2]",
      "metadata": {
        "trusted": true
      },
      "outputs": [
        {
          "execution_count": 23,
          "output_type": "execute_result",
          "data": {
            "text/plain": "'n'"
          },
          "metadata": {}
        }
      ],
      "execution_count": 24
    },
    {
      "id": "0626f17b-740d-4961-b462-381246e1222c",
      "cell_type": "code",
      "source": "a=[1,2,3,\"guneesh\"]\na[3]=\"katyal\"",
      "metadata": {
        "trusted": true
      },
      "outputs": [],
      "execution_count": 29
    },
    {
      "id": "e66fcb2b-35be-4e58-b8c6-6e9352f92cc9",
      "cell_type": "code",
      "source": "a",
      "metadata": {
        "trusted": true
      },
      "outputs": [
        {
          "execution_count": 29,
          "output_type": "execute_result",
          "data": {
            "text/plain": "[1, 2, 3, 'katyal']"
          },
          "metadata": {}
        }
      ],
      "execution_count": 30
    },
    {
      "id": "9483e822-647e-4e95-b129-16748fed37ad",
      "cell_type": "code",
      "source": "#### Question.4   Discuss the different types of operators in Python and provide examples of how they are used\n\n#### Answer Python provides a wide range of operators to perform operations on variables and values. These operators are grouped into different categories based on their functionality. Here's an overview of the types of operators in Python with examples:\n\n#Arithmetic Operators \na = 10\nb = 3\nprint(a + b)   \nprint(a ** b)  \nprint(a-b)\nprint(a*b)\nprint(a/b)\nprint(a%b)",
      "metadata": {
        "trusted": true
      },
      "outputs": [
        {
          "name": "stdout",
          "output_type": "stream",
          "text": "13\n1000\n7\n30\n3.3333333333333335\n1\n"
        }
      ],
      "execution_count": 34
    },
    {
      "id": "7eec7e5d-d89c-4235-b9bc-fc55242a3e03",
      "cell_type": "code",
      "source": "#Comparison Operators\na=5\nb=2\nprint(a>b)\nprint(a<b)\nprint(a==b)\nprint(a!=b)\nprint(a>=b)\nprint(a<=b)",
      "metadata": {
        "trusted": true
      },
      "outputs": [
        {
          "name": "stdout",
          "output_type": "stream",
          "text": "True\nFalse\nFalse\nTrue\nTrue\nFalse\n"
        }
      ],
      "execution_count": 36
    },
    {
      "id": "e508fee9-16af-43ad-8edc-664286477112",
      "cell_type": "code",
      "source": "#Logical Operators\nx = 5\ny = 2\nprint((x>4) and (y>1))\nprint((x==7) and (y==1))\nprint((x>4) or (y==5))   \nprint(not x==2)    \n",
      "metadata": {
        "trusted": true
      },
      "outputs": [
        {
          "name": "stdout",
          "output_type": "stream",
          "text": "True\nFalse\nTrue\nTrue\n"
        }
      ],
      "execution_count": 43
    },
    {
      "id": "b731a16e-24ba-43bf-b64c-b81e16a82d6b",
      "cell_type": "code",
      "source": "#Assignment Operators\na=5\na",
      "metadata": {
        "trusted": true
      },
      "outputs": [
        {
          "name": "stdout",
          "output_type": "stream",
          "text": "15\n"
        }
      ],
      "execution_count": 54
    },
    {
      "id": "d5e9028e-5ab1-4d3e-acd6-cec215178a59",
      "cell_type": "code",
      "source": "a=5\nb-=3\na+b",
      "metadata": {
        "trusted": true
      },
      "outputs": [
        {
          "execution_count": 57,
          "output_type": "execute_result",
          "data": {
            "text/plain": "2"
          },
          "metadata": {}
        }
      ],
      "execution_count": 58
    },
    {
      "id": "0b577d0e-a34a-44a1-8bc3-29897028c926",
      "cell_type": "code",
      "source": "a = 5\na *= 3\nprint(a)",
      "metadata": {
        "trusted": true
      },
      "outputs": [
        {
          "name": "stdout",
          "output_type": "stream",
          "text": "15\n"
        }
      ],
      "execution_count": 59
    },
    {
      "id": "9101682e-7beb-45f5-880a-93b331389fb7",
      "cell_type": "code",
      "source": "#Bitwise Operators\na = 5  # Binary: 0101\nb = 3  # Binary: 0011\nprint(a & b)  \nprint(a | b)  \nprint(a<<2)\nprint(a>>2)\n",
      "metadata": {
        "trusted": true
      },
      "outputs": [
        {
          "name": "stdout",
          "output_type": "stream",
          "text": "1\n7\n20\n1\n"
        }
      ],
      "execution_count": 51
    },
    {
      "id": "7a7240c8-cc68-4c68-af96-496f5d7090dd",
      "cell_type": "code",
      "source": "#Membership Operators\nmy_list = [1, 2, 3]\nprint(2 in my_list)     \nprint(2 not in my_list) \n",
      "metadata": {
        "trusted": true
      },
      "outputs": [
        {
          "name": "stdout",
          "output_type": "stream",
          "text": "True\nFalse\n"
        }
      ],
      "execution_count": 53
    },
    {
      "id": "3533636c-af43-4521-9b9e-75a07fded2f2",
      "cell_type": "code",
      "source": "#### Question.5   Explain the concept of type casting in Python with examples\n#### Answer  Type casting in Python refers to the process of converting one data type into another. Python provides two types of casting: implicit casting and explicit casting.\n#Implicit Casting (Automatic)  #Explicit Casting (Manual)-\n\n# Implicit casting: int to float\nx = 5    # Integer\ny = 2.5  # Float\nresult = x + y  \nprint(result)  ",
      "metadata": {
        "trusted": true
      },
      "outputs": [
        {
          "name": "stdout",
          "output_type": "stream",
          "text": "7.5\n"
        }
      ],
      "execution_count": 60
    },
    {
      "id": "c43fe9b6-7614-4d2e-ab7d-75dcbec966e4",
      "cell_type": "code",
      "source": "# Explicit casting: int to string\nn = 123\ns = str(n) \nprint(s)  \ntype(s)",
      "metadata": {
        "trusted": true
      },
      "outputs": [
        {
          "name": "stdout",
          "output_type": "stream",
          "text": "123\n"
        },
        {
          "execution_count": 69,
          "output_type": "execute_result",
          "data": {
            "text/plain": "str"
          },
          "metadata": {}
        }
      ],
      "execution_count": 70
    },
    {
      "id": "8da184bf-63f5-45df-a29e-ab35785884f4",
      "cell_type": "code",
      "source": "# Explicit casting: int to float\na = 10\nb = float(a)  \nprint(b)\ntype(b)",
      "metadata": {
        "trusted": true
      },
      "outputs": [
        {
          "name": "stdout",
          "output_type": "stream",
          "text": "10.0\n"
        },
        {
          "execution_count": 67,
          "output_type": "execute_result",
          "data": {
            "text/plain": "float"
          },
          "metadata": {}
        }
      ],
      "execution_count": 68
    },
    {
      "id": "c6c076dc-5c0a-43ce-920e-6994a6b35cc7",
      "cell_type": "code",
      "source": "# Explicit casting: float to int\nx = 5.7\ny = int(x)  \nprint(y)\ntype(y)",
      "metadata": {
        "trusted": true
      },
      "outputs": [
        {
          "name": "stdout",
          "output_type": "stream",
          "text": "5\n"
        },
        {
          "execution_count": 68,
          "output_type": "execute_result",
          "data": {
            "text/plain": "int"
          },
          "metadata": {}
        }
      ],
      "execution_count": 69
    },
    {
      "id": "57474201-c68a-4172-aaa4-02bc066a9b3d",
      "cell_type": "code",
      "source": "#### Question.6  How do conditional statements work in Python? Illustrate with examples\n\n#### Answer. Conditional statements in Python allow the program to execute different blocks of code based on certain conditions. These statements enable decision-making in a program and use logical expressions that evaluate to True or False.\n#Conditional statements are essential for decision-making in Python programs. They provide the flexibility to execute specific code blocks based on conditions, enabling dynamic and logical behavior in applications.\n#Types of cpnditional statemenet",
      "metadata": {
        "trusted": true
      },
      "outputs": [],
      "execution_count": 1
    },
    {
      "id": "66d3ecb5-6cd7-4d01-a327-7cdd0416beff",
      "cell_type": "code",
      "source": "#if statement\na=\"Delhi\"\nif a == \"Delhi\":\n    print(\"Correct\")",
      "metadata": {
        "trusted": true
      },
      "outputs": [
        {
          "name": "stdout",
          "output_type": "stream",
          "text": "Correct\n"
        }
      ],
      "execution_count": 6
    },
    {
      "id": "420d9df6-2258-49fe-a97f-40770418dd8c",
      "cell_type": "code",
      "source": "#if else satatement\na=\"Delhi\"\nif a == \"Pune\" :\n    print(\"Correct\")\nelse:\n    print(\"Incorrect\")\n",
      "metadata": {
        "trusted": true
      },
      "outputs": [
        {
          "name": "stdout",
          "output_type": "stream",
          "text": "Incorrect\n"
        }
      ],
      "execution_count": 7
    },
    {
      "id": "cb35aa69-9920-4169-8eea-d215f3c973c0",
      "cell_type": "code",
      "source": "#elif statement\na=15\nb=\"Pune\"\nif ((b == \"Delhi\") & (a>10)):\n    print(\"Correct\")\nelif ((b == \"Pune\") & (a>10)):\n    print(\"b matched\")\nelse:\n    print(\"Nothing matched\")",
      "metadata": {
        "trusted": true
      },
      "outputs": [
        {
          "name": "stdout",
          "output_type": "stream",
          "text": "b matched\n"
        }
      ],
      "execution_count": 13
    },
    {
      "id": "e97cb117-5c67-4ebd-ac56-b7f77f7a73fb",
      "cell_type": "code",
      "source": "#Nested if statement\na=4\nb=2\nif a > b :\n    print(\"a is greater\")\n    if a==5 :\n        print(\"a is 5\")\n    else:\n        print(\"a is not 5\")\nelse:\n    print(\"b is greater\")",
      "metadata": {
        "trusted": true
      },
      "outputs": [
        {
          "name": "stdout",
          "output_type": "stream",
          "text": "a is greater\na is not 5\n"
        }
      ],
      "execution_count": 17
    },
    {
      "id": "144ec242-eb54-4560-88a7-aaa5f0b2bfe2",
      "cell_type": "code",
      "source": "#### Question.7  Describe the different types of loops in Python and their use cases with examples.\n\n####Answer. A loop in Python is a control structure that allows the repeated execution of a block of code as long as a specified condition is true or until a sequence of elements is exhausted. Loops are used to automate repetitive tasks, reduce redundancy, and make programs more efficient.\n#Python provides two primary types of loops for executing a block of code repeatedly: for loop and while loop. Each type has its own use cases, depending on the scenario.\n#Type of loop",
      "metadata": {
        "trusted": true
      },
      "outputs": [],
      "execution_count": 18
    },
    {
      "id": "df256029-acad-4334-a28d-413cd5707081",
      "cell_type": "code",
      "source": "#while loop\na=5\nwhile a>0:\n    print(a)\n    a = a-1",
      "metadata": {
        "trusted": true
      },
      "outputs": [
        {
          "name": "stdout",
          "output_type": "stream",
          "text": "5\n4\n3\n2\n1\n"
        }
      ],
      "execution_count": 19
    },
    {
      "id": "c94cdb42-b6df-4e4f-a12e-f0d325b34719",
      "cell_type": "code",
      "source": "#while statement with break\na=2\nn=10\nwhile n>a :\n    print(n)\n    n = n-1\n    if n == 6:\n        break",
      "metadata": {
        "trusted": true
      },
      "outputs": [
        {
          "name": "stdout",
          "output_type": "stream",
          "text": "10\n9\n8\n7\n"
        }
      ],
      "execution_count": 5
    },
    {
      "id": "964adf44-d4e1-41e8-8abc-c995bc50c4db",
      "cell_type": "code",
      "source": "#while loop with continue\na=5\nb=12\nwhile b>a:\n    a= a+1\n    if a==8:\n        continue\n    print(a)    ",
      "metadata": {
        "trusted": true
      },
      "outputs": [
        {
          "name": "stdout",
          "output_type": "stream",
          "text": "6\n7\n9\n10\n11\n12\n"
        }
      ],
      "execution_count": 1
    },
    {
      "id": "406632ae-c8fc-4d7a-ad2d-95b46bf9a3a6",
      "cell_type": "code",
      "source": "#for loop\nnum = [1,2,3,4,\"guneesh\"]\nfor i in num:\n    print(i, end=\"*\")",
      "metadata": {
        "trusted": true
      },
      "outputs": [
        {
          "name": "stdout",
          "output_type": "stream",
          "text": "1*2*3*4*guneesh*"
        }
      ],
      "execution_count": 3
    },
    {
      "id": "1ff33a02-904b-4a38-8239-edd64d897990",
      "cell_type": "code",
      "source": "#for loop with break\nnum = [1,2,3,4,\"guneesh\"]\nfor i in num:\n    print(i)\n    if i == 4:\n        break\n    ",
      "metadata": {
        "trusted": true
      },
      "outputs": [
        {
          "name": "stdout",
          "output_type": "stream",
          "text": "1\n2\n3\n4\n"
        }
      ],
      "execution_count": 4
    },
    {
      "id": "283f4c05-259f-475c-97ce-4e138d7616d8",
      "cell_type": "code",
      "source": "#for loop with continue\nfor i in range(15):\n    if i%2 == 0:\n        continue\n    print(i)         #odd number in range of 15",
      "metadata": {
        "trusted": true
      },
      "outputs": [
        {
          "name": "stdout",
          "output_type": "stream",
          "text": "1\n3\n5\n7\n9\n11\n13\n"
        }
      ],
      "execution_count": 5
    },
    {
      "id": "43d0a4d9-2238-46d8-907f-be25db054695",
      "cell_type": "code",
      "source": "#for loop with range\nfor i in range(4):\n    for j in range(i+1):\n        print(\"*\",end=\" \")\n    print()    ",
      "metadata": {
        "trusted": true
      },
      "outputs": [
        {
          "name": "stdout",
          "output_type": "stream",
          "text": "* \n* * \n* * * \n* * * * \n"
        }
      ],
      "execution_count": 7
    },
    {
      "id": "64f44fac-9019-4cbe-9895-fa3c3f374ebb",
      "cell_type": "code",
      "source": "#same question with while loop\nrow=1\nwhile row<=4:\n    col=1\n    while col<=row :\n        print(\"*\", end=\" \")\n        col = col+1\n    print()\n    row=row+1\n",
      "metadata": {
        "trusted": true
      },
      "outputs": [
        {
          "name": "stdout",
          "output_type": "stream",
          "text": "* \n* * \n* * * \n* * * * \n"
        }
      ],
      "execution_count": 12
    },
    {
      "id": "65eab3c3-2c07-43fc-9c4b-c2ad5396c9ea",
      "cell_type": "code",
      "source": "#End of assignment\n#Guneesh katyal\n#9810490196",
      "metadata": {
        "trusted": true
      },
      "outputs": [],
      "execution_count": null
    }
  ]
}