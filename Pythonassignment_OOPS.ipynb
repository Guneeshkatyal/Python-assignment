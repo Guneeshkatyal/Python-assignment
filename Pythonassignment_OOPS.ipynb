{
  "nbformat": 4,
  "nbformat_minor": 0,
  "metadata": {
    "colab": {
      "provenance": [],
      "authorship_tag": "ABX9TyPsMwudWEcMsUyxsp5RLWoH",
      "include_colab_link": true
    },
    "kernelspec": {
      "name": "python3",
      "display_name": "Python 3"
    },
    "language_info": {
      "name": "python"
    }
  },
  "cells": [
    {
      "cell_type": "markdown",
      "metadata": {
        "id": "view-in-github",
        "colab_type": "text"
      },
      "source": [
        "<a href=\"https://colab.research.google.com/github/Guneeshkatyal/Python-assignment/blob/main/Pythonassignment_OOPS.ipynb\" target=\"_parent\"><img src=\"https://colab.research.google.com/assets/colab-badge.svg\" alt=\"Open In Colab\"/></a>"
      ]
    },
    {
      "cell_type": "code",
      "execution_count": 5,
      "metadata": {
        "id": "-1JyHSyaRK9q"
      },
      "outputs": [],
      "source": [
        "### 1. What are the five key concepts of Object-Oriented Programming (OOP)?\n",
        "\n",
        "\n",
        "#Encapsulation\n",
        "#Abstraction\n",
        "#Inheritance\n",
        "#Polymorphism\n",
        "#Classes and Objects"
      ]
    },
    {
      "cell_type": "code",
      "source": [
        "### 2.. Write a Python class for a `Car` with attributes for `make`, `model`, and `year`. Include a method to display the car's information.\n",
        "\n",
        "class Car:\n",
        "    def __init__(self, make, model, year):\n",
        "        self.make = make\n",
        "        self.model = model\n",
        "        self.year = year\n",
        "\n",
        "    def display_info(self):\n",
        "        print(f\"Car: {self.year} {self.make} {self.model}\")\n",
        "\n",
        "car1 = Car(\"Toyota\", \"Corolla\", 2020)\n",
        "car1.display_info()"
      ],
      "metadata": {
        "colab": {
          "base_uri": "https://localhost:8080/"
        },
        "id": "VgpAlltfTTQO",
        "outputId": "fd061c8d-6b98-4978-eb9f-af252d17196f"
      },
      "execution_count": 2,
      "outputs": [
        {
          "output_type": "stream",
          "name": "stdout",
          "text": [
            "Car: 2020 Toyota Corolla\n"
          ]
        }
      ]
    },
    {
      "cell_type": "code",
      "source": [
        "##  3. Explain the difference between instance methods and class methods. Provide an example of each.\n",
        "\n",
        "\n",
        "class Example:\n",
        "    count = 0\n",
        "\n",
        "    def __init__(self):\n",
        "        Example.count += 1\n",
        "\n",
        "    def instance_method(self):\n",
        "        print(\"This is an instance method\")\n",
        "\n",
        "    @classmethod\n",
        "    def class_method(cls):\n",
        "        print(f\"Total instances created: {cls.count}\")\n",
        "\n",
        "obj = Example()\n",
        "obj.instance_method()\n",
        "Example.class_method()\n"
      ],
      "metadata": {
        "colab": {
          "base_uri": "https://localhost:8080/"
        },
        "id": "FvsVHMbMT2hu",
        "outputId": "29cf373a-ac65-4076-d196-e80a84572525"
      },
      "execution_count": 4,
      "outputs": [
        {
          "output_type": "stream",
          "name": "stdout",
          "text": [
            "This is an instance method\n",
            "Total instances created: 1\n"
          ]
        }
      ]
    },
    {
      "cell_type": "code",
      "source": [
        "###  4. How does Python implement method overloading? Give an example.\n",
        "\n",
        "\n",
        "class OverloadExample:\n",
        "    def show(self, a=None, b=None):\n",
        "        if a is not None and b is not None:\n",
        "            print(a, b)\n",
        "        elif a is not None:\n",
        "            print(a)\n",
        "        else:\n",
        "            print(\"No arguments\")\n",
        "\n",
        "obj = OverloadExample()\n",
        "obj.show(10)\n",
        "obj.show(10, 20)\n"
      ],
      "metadata": {
        "colab": {
          "base_uri": "https://localhost:8080/"
        },
        "id": "GZqDwYasUDd4",
        "outputId": "062b0c3f-8301-4451-868a-11162796fcf4"
      },
      "execution_count": 6,
      "outputs": [
        {
          "output_type": "stream",
          "name": "stdout",
          "text": [
            "10\n",
            "10 20\n"
          ]
        }
      ]
    },
    {
      "cell_type": "code",
      "source": [
        "\n",
        "### 5. What are the three types of access modifiers in Python? How are they denoted?\n",
        "\n",
        "\n",
        "class AccessModifiers:\n",
        "    public_var = \"Public\"\n",
        "    _protected_var = \"Protected\"\n",
        "    __private_var = \"Private\"\n",
        "\n",
        "obj = AccessModifiers()\n",
        "print(obj.public_var)\n",
        "print(obj._protected_var)\n"
      ],
      "metadata": {
        "colab": {
          "base_uri": "https://localhost:8080/"
        },
        "id": "br97VlJlULw9",
        "outputId": "6b3f2e95-c5bb-4723-91d5-f3ef212fb971"
      },
      "execution_count": 7,
      "outputs": [
        {
          "output_type": "stream",
          "name": "stdout",
          "text": [
            "Public\n",
            "Protected\n"
          ]
        }
      ]
    },
    {
      "cell_type": "code",
      "source": [
        "\n",
        "###  6. Describe the five types of inheritance in Python. Provide a simple example of multiple inheritance.\n",
        "\n",
        "\n",
        "#Single Inheritance**\n",
        "#Multiple Inheritance**\n",
        "#Multilevel Inheritance**\n",
        "#Hierarchical Inheritance**\n",
        "#Hybrid Inheritance**\n",
        "class A:\n",
        "    def method_a(self):\n",
        "        print(\"Method A\")\n",
        "\n",
        "class B:\n",
        "    def method_b(self):\n",
        "        print(\"Method B\")\n",
        "\n",
        "class C(A, B):\n",
        "    pass\n",
        "\n",
        "obj = C()\n",
        "obj.method_a()\n",
        "obj.method_b()\n"
      ],
      "metadata": {
        "colab": {
          "base_uri": "https://localhost:8080/"
        },
        "id": "KC2xSPcWUTOu",
        "outputId": "b8a8c6c6-feca-4399-a779-d04ef3247d98"
      },
      "execution_count": 8,
      "outputs": [
        {
          "output_type": "stream",
          "name": "stdout",
          "text": [
            "Method A\n",
            "Method B\n"
          ]
        }
      ]
    },
    {
      "cell_type": "code",
      "source": [
        "###  7. What is the Method Resolution Order (MRO) in Python? How can you retrieve it programmatically?\n",
        "\n",
        "\n",
        "class A: pass\n",
        "class B(A): pass\n",
        "class C(B): pass\n",
        "\n",
        "print(C.mro())  # OR\n",
        "print(C.__mro__)\n"
      ],
      "metadata": {
        "colab": {
          "base_uri": "https://localhost:8080/"
        },
        "id": "5AkRXN8-UtyB",
        "outputId": "249174aa-19d3-4343-c7f1-17cc83e5b01c"
      },
      "execution_count": 9,
      "outputs": [
        {
          "output_type": "stream",
          "name": "stdout",
          "text": [
            "[<class '__main__.C'>, <class '__main__.B'>, <class '__main__.A'>, <class 'object'>]\n",
            "(<class '__main__.C'>, <class '__main__.B'>, <class '__main__.A'>, <class 'object'>)\n"
          ]
        }
      ]
    },
    {
      "cell_type": "code",
      "source": [
        "### 8.Create an abstract base class `Shape` with an abstract method `area()`. Then create two subclasses `Circle` and `Rectangle` that implement the `area()` method.\n",
        "\n",
        "from abc import ABC, abstractmethod\n",
        "\n",
        "class Shape(ABC):\n",
        "    @abstractmethod\n",
        "    def area(self):\n",
        "        pass\n",
        "\n",
        "class Circle(Shape):\n",
        "    def __init__(self, radius):\n",
        "        self.radius = radius\n",
        "\n",
        "    def area(self):\n",
        "        return 3.14 * self.radius ** 2\n",
        "\n",
        "class Rectangle(Shape):\n",
        "    def __init__(self, width, height):\n",
        "        self.width = width\n",
        "        self.height = height\n",
        "\n",
        "    def area(self):\n",
        "        return self.width * self.height\n",
        "\n",
        "circle = Circle(5)\n",
        "rectangle = Rectangle(4, 6)\n",
        "print(circle.area(), rectangle.area())\n"
      ],
      "metadata": {
        "colab": {
          "base_uri": "https://localhost:8080/"
        },
        "id": "xtegyneRU1Kz",
        "outputId": "7cbbe743-08c1-4064-a99a-f2f6b33a9b6a"
      },
      "execution_count": 10,
      "outputs": [
        {
          "output_type": "stream",
          "name": "stdout",
          "text": [
            "78.5 24\n"
          ]
        }
      ]
    },
    {
      "cell_type": "code",
      "source": [
        "### 9. Demonstrate polymorphism by creating a function that can work with different shape objects to calculate and print their areas.\n",
        "\n",
        "def print_area(shape):\n",
        "    print(\"Area:\", shape.area())\n",
        "\n",
        "shapes = [Circle(3), Rectangle(4, 5)]\n",
        "for shape in shapes:\n",
        "    print_area(shape)\n"
      ],
      "metadata": {
        "colab": {
          "base_uri": "https://localhost:8080/"
        },
        "id": "Kebd8SeSU67r",
        "outputId": "63bd7407-8cd6-4a96-c42d-62bc303eb089"
      },
      "execution_count": 11,
      "outputs": [
        {
          "output_type": "stream",
          "name": "stdout",
          "text": [
            "Area: 28.26\n",
            "Area: 20\n"
          ]
        }
      ]
    },
    {
      "cell_type": "code",
      "source": [
        "### 10.  10. Implement encapsulation in a `BankAccount` class with private attributes for `balance` and `account_number`. Include methods for deposit, withdrawal, and balance inquiry.\n",
        "\n",
        "\n",
        "class BankAccount:\n",
        "    def __init__(self, account_number, balance):\n",
        "        self.__account_number = account_number\n",
        "        self.__balance = balance\n",
        "\n",
        "    def deposit(self, amount):\n",
        "        self.__balance += amount\n",
        "\n",
        "    def withdraw(self, amount):\n",
        "        if amount <= self.__balance:\n",
        "            self.__balance -= amount\n",
        "\n",
        "    def get_balance(self):\n",
        "        return self.__balance\n",
        "\n",
        "account = BankAccount(\"12345678\", 1000)\n",
        "account.deposit(500)\n",
        "account.withdraw(300)\n",
        "print(account.get_balance())\n"
      ],
      "metadata": {
        "colab": {
          "base_uri": "https://localhost:8080/"
        },
        "id": "kDQd9013U_JS",
        "outputId": "94c27fe6-67ab-4ae2-a565-daca601ecd53"
      },
      "execution_count": 12,
      "outputs": [
        {
          "output_type": "stream",
          "name": "stdout",
          "text": [
            "1200\n"
          ]
        }
      ]
    },
    {
      "cell_type": "code",
      "source": [
        "## 11. Write a class that overrides the `__str__` and `__add__` magic methods. What will these methods allow tp you do.\n",
        "\n",
        "class MyClass:\n",
        "    def __init__(self, value):\n",
        "        self.value = value\n",
        "\n",
        "    def __str__(self):\n",
        "        return f\"Value: {self.value}\"\n",
        "\n",
        "    def __add__(self, other):\n",
        "        return MyClass(self.value + other.value)\n",
        "\n",
        "obj1 = MyClass(10)\n",
        "obj2 = MyClass(20)\n",
        "print(obj1 + obj2)  # Calls __str__ implicitly"
      ],
      "metadata": {
        "colab": {
          "base_uri": "https://localhost:8080/"
        },
        "id": "yZReKd-dVDmv",
        "outputId": "d87835df-ce0e-449e-85ee-c8712c985a48"
      },
      "execution_count": 13,
      "outputs": [
        {
          "output_type": "stream",
          "name": "stdout",
          "text": [
            "Value: 30\n"
          ]
        }
      ]
    },
    {
      "cell_type": "code",
      "source": [
        "###  12. Create a decorator that measures and prints the execution time of a function.\n",
        "\n",
        "\n",
        "import time\n",
        "\n",
        "def execution_time(func):\n",
        "    def wrapper(*args, **kwargs):\n",
        "        start = time.time()\n",
        "        result = func(*args, **kwargs)\n",
        "        end = time.time()\n",
        "        print(f\"Execution time: {end - start} seconds\")\n",
        "        return result\n",
        "    return wrapper\n",
        "\n",
        "@execution_time\n",
        "def slow_function():\n",
        "    time.sleep(2)\n",
        "    print(\"Function completed\")\n",
        "\n",
        "slow_function()\n"
      ],
      "metadata": {
        "colab": {
          "base_uri": "https://localhost:8080/"
        },
        "id": "RGqAdM4hVKfa",
        "outputId": "6ec29b2a-4d46-4195-b8b3-d64b06ce6e66"
      },
      "execution_count": 14,
      "outputs": [
        {
          "output_type": "stream",
          "name": "stdout",
          "text": [
            "Function completed\n",
            "Execution time: 2.0003597736358643 seconds\n"
          ]
        }
      ]
    },
    {
      "cell_type": "code",
      "source": [
        " #13. Explain the concept of the Diamond Problem in multiple inheritance. How does Python resolve it?\n",
        "\n",
        "class A:\n",
        "    def show(self):\n",
        "        print(\"A\")\n",
        "\n",
        "class B(A):\n",
        "    def show(self):\n",
        "        print(\"B\")\n",
        "\n",
        "class C(A):\n",
        "    def show(self):\n",
        "        print(\"C\")\n",
        "\n",
        "class D(B, C):\n",
        "    pass\n",
        "\n",
        "d = D()\n",
        "d.show()  # MRO resolves it to class B first\n"
      ],
      "metadata": {
        "colab": {
          "base_uri": "https://localhost:8080/"
        },
        "id": "8D7LPzXwVO6J",
        "outputId": "92adb51c-1f63-4e37-8f75-ef0dbd218d44"
      },
      "execution_count": 21,
      "outputs": [
        {
          "output_type": "stream",
          "name": "stdout",
          "text": [
            "B\n"
          ]
        }
      ]
    },
    {
      "cell_type": "code",
      "source": [
        "# 14. Write a class method that keeps track of the number of instances created from a class.\n",
        "\n",
        "class InstanceCounter:\n",
        "    count = 0\n",
        "\n",
        "    def __init__(self):\n",
        "        InstanceCounter.count += 1\n",
        "\n",
        "    @classmethod\n",
        "    def get_instance_count(cls):\n",
        "        return cls.count\n",
        "\n",
        "obj1 = InstanceCounter()\n",
        "obj2 = InstanceCounter()\n",
        "print(InstanceCounter.get_instance_count())"
      ],
      "metadata": {
        "colab": {
          "base_uri": "https://localhost:8080/"
        },
        "id": "rN6zDhqeVUtX",
        "outputId": "65060373-7d23-44a0-b5cb-234e72de8e80"
      },
      "execution_count": 20,
      "outputs": [
        {
          "output_type": "stream",
          "name": "stdout",
          "text": [
            "2\n"
          ]
        }
      ]
    },
    {
      "cell_type": "code",
      "source": [
        "\n",
        " #15. Implement a static method in a class that checks if a given year is a leap year.class DateUtils:\n",
        "\n",
        "class DateUtils:\n",
        "    @staticmethod\n",
        "    def is_leap_year(year):\n",
        "        return year % 4 == 0 and (year % 100 != 0 or year % 400 == 0)\n",
        "\n",
        "print(DateUtils.is_leap_year(2024))\n"
      ],
      "metadata": {
        "colab": {
          "base_uri": "https://localhost:8080/"
        },
        "id": "ZsXolpQCTvzN",
        "outputId": "76d9c958-72df-4370-bcc0-f9eae9ef16b2"
      },
      "execution_count": 22,
      "outputs": [
        {
          "output_type": "stream",
          "name": "stdout",
          "text": [
            "True\n"
          ]
        }
      ]
    },
    {
      "cell_type": "code",
      "source": [],
      "metadata": {
        "id": "suqmjK3AWqW3"
      },
      "execution_count": null,
      "outputs": []
    }
  ]
}