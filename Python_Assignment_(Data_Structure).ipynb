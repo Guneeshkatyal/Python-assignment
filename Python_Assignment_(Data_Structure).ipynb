{
  "nbformat": 4,
  "nbformat_minor": 0,
  "metadata": {
    "colab": {
      "provenance": [],
      "authorship_tag": "ABX9TyMzReHI4y23MjDhBE19HCxj",
      "include_colab_link": true
    },
    "kernelspec": {
      "name": "python3",
      "display_name": "Python 3"
    },
    "language_info": {
      "name": "python"
    }
  },
  "cells": [
    {
      "cell_type": "markdown",
      "metadata": {
        "id": "view-in-github",
        "colab_type": "text"
      },
      "source": [
        "<a href=\"https://colab.research.google.com/github/Guneeshkatyal/Python-assignment/blob/main/Python_Assignment_(Data_Structure).ipynb\" target=\"_parent\"><img src=\"https://colab.research.google.com/assets/colab-badge.svg\" alt=\"Open In Colab\"/></a>"
      ]
    },
    {
      "cell_type": "code",
      "execution_count": null,
      "metadata": {
        "id": "FaGsPw4Lerau"
      },
      "outputs": [],
      "source": [
        "####Question.1. What are data structures, and why are they important.\n",
        "\n",
        "####Answer. Data structures in Python are specialized formats used to store, organize, and manipulate data efficiently. They are essential for handling large datasets and optimizing performance in Python applications.\n",
        "#Types of Data Structures in Python\n",
        "\n",
        "#Python provides built-in and user-defined data structures:\n",
        "#Built-in Data Structures (High-level and easy to use)\n",
        "\n",
        "#Lists – Ordered, mutable collections (e.g., [1, 2, 3]).\n",
        "\n",
        "#Tuples – Ordered, immutable collections (e.g., (1, 2, 3)).\n",
        "\n",
        "#Sets – Unordered, unique elements (e.g., {1, 2, 3}).\n",
        "\n",
        "#Dictionaries – Key-value pairs (e.g., {'a': 1, 'b': 2}).\n",
        "#Python’s flexibility and built-in support for data structures make it a powerful language for handling complex problems efficiently."
      ]
    },
    {
      "cell_type": "code",
      "source": [
        "####Question.2.  Explain the difference between mutable and immutable data types with examples\n",
        "\n",
        "####Answer. Mutable Data Types Mutable data types in Python can be modified after creation. This means that elements can be changed, added, or removed\n",
        "# without creating a new object in memory. Even after modification, the object retains the same memory address. Common mutable data types include lists, dictionaries, sets, and bytearray.\n"
      ],
      "metadata": {
        "id": "tHR0QQXaf7FR"
      },
      "execution_count": null,
      "outputs": []
    },
    {
      "cell_type": "code",
      "source": [
        "#Mutable\n",
        "a=[1,2,2.5,'Tony']\n",
        "a.append('Stark')"
      ],
      "metadata": {
        "id": "MiC2AlUChBDr"
      },
      "execution_count": null,
      "outputs": []
    },
    {
      "cell_type": "code",
      "source": [
        "a"
      ],
      "metadata": {
        "colab": {
          "base_uri": "https://localhost:8080/"
        },
        "id": "5Wjade-8hPaG",
        "outputId": "415b535b-f853-4228-c81f-479b3a132d5c"
      },
      "execution_count": null,
      "outputs": [
        {
          "output_type": "execute_result",
          "data": {
            "text/plain": [
              "[1, 2, 2.5, 'Tony', 'Stark']"
            ]
          },
          "metadata": {},
          "execution_count": 5
        }
      ]
    },
    {
      "cell_type": "code",
      "source": [
        "a.remove(2.5)"
      ],
      "metadata": {
        "id": "2OuHUfD8hQjZ"
      },
      "execution_count": null,
      "outputs": []
    },
    {
      "cell_type": "code",
      "source": [
        "a"
      ],
      "metadata": {
        "colab": {
          "base_uri": "https://localhost:8080/"
        },
        "id": "QwpOLHj9hYXU",
        "outputId": "e1f1a56c-0a13-4d2a-9e61-496341591346"
      },
      "execution_count": null,
      "outputs": [
        {
          "output_type": "execute_result",
          "data": {
            "text/plain": [
              "[1, 2, 'Tony', 'Stark']"
            ]
          },
          "metadata": {},
          "execution_count": 7
        }
      ]
    },
    {
      "cell_type": "code",
      "source": [
        "#Immutable Data Types\n",
        "# Immutable data types cannot be modified after creation. Any modification results in a new object being created with a different memory address. This\n",
        "# immutability ensures that the original object remains unchanged. Examples of immutable data types include integers, floats, strings, tuples, booleans, and frozenset.\n"
      ],
      "metadata": {
        "id": "BHTONdYZhYxv"
      },
      "execution_count": null,
      "outputs": []
    },
    {
      "cell_type": "code",
      "source": [
        "#Immutable\n",
        "b=(1,2,3,'ironman')\n",
        "type(b)"
      ],
      "metadata": {
        "colab": {
          "base_uri": "https://localhost:8080/"
        },
        "id": "4Msfl4Mrh3RE",
        "outputId": "b6c2a48c-b834-430d-cc34-4d02da39cd0e"
      },
      "execution_count": null,
      "outputs": [
        {
          "output_type": "execute_result",
          "data": {
            "text/plain": [
              "tuple"
            ]
          },
          "metadata": {},
          "execution_count": 10
        }
      ]
    },
    {
      "cell_type": "code",
      "source": [
        "b.append('hulk')     #cannot change as the tuples are immutable."
      ],
      "metadata": {
        "colab": {
          "base_uri": "https://localhost:8080/",
          "height": 146
        },
        "id": "HHkRMEx1iByz",
        "outputId": "bc7058f8-e652-4260-9e5b-2865f898d192"
      },
      "execution_count": null,
      "outputs": [
        {
          "output_type": "error",
          "ename": "AttributeError",
          "evalue": "'tuple' object has no attribute 'append'",
          "traceback": [
            "\u001b[0;31m---------------------------------------------------------------------------\u001b[0m",
            "\u001b[0;31mAttributeError\u001b[0m                            Traceback (most recent call last)",
            "\u001b[0;32m<ipython-input-11-836ad07b1d66>\u001b[0m in \u001b[0;36m<cell line: 0>\u001b[0;34m()\u001b[0m\n\u001b[0;32m----> 1\u001b[0;31m \u001b[0mb\u001b[0m\u001b[0;34m.\u001b[0m\u001b[0mappend\u001b[0m\u001b[0;34m(\u001b[0m\u001b[0;34m'hulk'\u001b[0m\u001b[0;34m)\u001b[0m\u001b[0;34m\u001b[0m\u001b[0;34m\u001b[0m\u001b[0m\n\u001b[0m",
            "\u001b[0;31mAttributeError\u001b[0m: 'tuple' object has no attribute 'append'"
          ]
        }
      ]
    },
    {
      "cell_type": "code",
      "source": [
        "####Question.3.  What are the main differences between lists and tuples in Python\n",
        "\n",
        "####Answer. ## **Main Differences Between Lists and Tuples in Python**\n",
        "\n",
        "### **1. Mutability**\n",
        "# Lists are mutable, meaning their elements can be modified, added, or removed\n",
        "# after creation. Tuples are immutable, meaning they cannot be changed after\n",
        "# creation.\n",
        "\n",
        "### 2. Performance\n",
        "# Tuples are faster than lists due to their immutability, making them more\n",
        "# efficient in operations requiring fixed data. Lists are slower because they\n",
        "# allow modifications and require additional overhead for dynamic memory\n",
        "# allocation.\n",
        "\n",
        "###3. Memory Usage\n",
        "# Tuples consume less memory since they are immutable and do not require\n",
        "# additional space for modifications. Lists use more memory because they allow\n",
        "# dynamic changes, leading to additional memory allocation.\n",
        "\n",
        "###4. Syntax and Declaration\n",
        "#Lists use square brackets `[ ]` to define elements.\n",
        "#Tuples use parentheses `( )` to define elements.\n",
        "\n",
        "###5. Usability\n",
        "#Lists are preferred** when working with collections of data that need modification, such as dynamic arrays.\n",
        "#Tuples are used when the data should remain constant, such as fixed records or dictionary keys.\n"
      ],
      "metadata": {
        "id": "f2pPlgcYiKlG"
      },
      "execution_count": null,
      "outputs": []
    },
    {
      "cell_type": "code",
      "source": [
        "####Question.4.  Describe how dictionaries store data.\n",
        "\n",
        "####Answer. Dictionaries in Python store data as key-value pairs using a hashing mechanism for fast lookups. They are implemented as hash tables, ensuring efficient data retrieval and modification.\n",
        "\n",
        "#Structure of a Dictionary\n",
        "#A dictionary consists of keys and values, where each key maps to a specific value.\n",
        "#Keys must be immutable (e.g., strings, numbers, tuples), while values can be of any data type.\n",
        "#Hashing Mechanism\n",
        "#Python uses a hash function to convert keys into unique integer values (hashes).\n",
        "#These hash values determine the index where the key-value pair is stored in memory.\n",
        "#Hashing ensures constant-time complexity (O(1)) for lookups in most cases.\n",
        "#Collision Handling\n",
        "#When two different keys produce the same hash (a collision), Python resolves it using open addressing or linked lists to store multiple values at the same index.\n",
        "#Dynamic Resizing\n",
        "#Python dictionaries automatically resize and rehash when the number of elements grows, maintaining efficiency."
      ],
      "metadata": {
        "id": "96iw-9hvj9PI"
      },
      "execution_count": null,
      "outputs": []
    },
    {
      "cell_type": "code",
      "source": [
        "####Question.5.  Why might you use a set instead of a list in Python\n",
        "\n",
        "####Answer. 1. Uniqueness of Elements\n",
        "#Sets automatically remove duplicates, ensuring that each element appears only once.\n",
        "#Lists allow duplicates, which may require extra processing to remove them manually.\n",
        "\n",
        "#2. Faster Lookups (O(1) vs. O(n))\n",
        "#Sets use hashing, making membership tests (x in set) significantly faster (O(1)).\n",
        "#Lists require linear search (O(n)) for checking if an element exists.\n",
        "\n",
        "#3. Efficient Mathematical Operations\n",
        "#Sets support union, intersection, and difference operations, which are faster and more convenient than performing these operations on lists.\n",
        "\n",
        "#4. Order Irrelevance\n",
        "#If order doesn’t matter, sets are preferable since they are unordered collections.\n",
        "\n",
        "#Lists maintain order, which is useful when sequencing is important.\n",
        "#5. Memory Optimization\n",
        "#Sets are more memory-efficient than lists for large datasets where duplicates need to be removed.\n",
        "\n",
        "#When to Use a Set?\n",
        "#When uniqueness of elements is required.\n",
        "#When fast lookups are needed.\n",
        "#When performing set operations like unions and intersections.\n",
        "\n",
        "#When to Use a List?\n",
        "#When order matters.\n",
        "#When duplicates are allowed.\n",
        "#When elements need index-based access."
      ],
      "metadata": {
        "id": "KxXHD9DBI6dw"
      },
      "execution_count": null,
      "outputs": []
    },
    {
      "cell_type": "code",
      "source": [
        "####Question.6.  What is a string in Python, and how is it different from a list\n",
        "\n",
        "####Answer. A string in Python is a sequence of Unicode characters enclosed in single ('), double (\"), or triple (''' \"\"\") quotes. Strings are immutable, meaning they cannot be modified after creation.\n",
        "#1. Mutability\n",
        "#The most significant difference between a string and a list is that strings are immutable, while lists are mutable. This means that, in Python, once you create a string, you cannot change its characters. In contrast, elements within a list can be modified, added, or removed.\n",
        "\n",
        "#2. Element Type\n",
        "#Strings can only store characters (textual data), whereas lists can store multiple types of data (integers, floats, strings, or even other lists). A list is more versatile for handling a collection of different data types, whereas a string is strictly used for text.\n",
        "\n",
        "#3. Indexing and Slicing\n",
        "#Both strings and lists support indexing and slicing, allowing you to access specific elements or subparts of the sequence. However, because strings are immutable, any operation that changes the content (like modifying a character) results in the creation of a new string, while lists allow direct changes to individual elements.\n",
        "\n",
        "#4. Performance\n",
        "#Strings are more memory-efficient for handling textual data because they are immutable. Lists, being mutable and capable of storing varied data types, use more memory. Therefore, strings are typically preferred when you only need to manipulate text, whereas lists are ideal for collections of items that may change over time.\n",
        "\n",
        "#5. Operations\n",
        "#Strings come with text-specific methods like .upper(), .split(), and .find() to manipulate or search the text. Lists, on the other hand, provide methods like .append(), .pop(), and .remove() to modify the list structure. These operations reflect the different purposes for which strings and lists are used.\n"
      ],
      "metadata": {
        "id": "J7DiOsXuJ_3R"
      },
      "execution_count": null,
      "outputs": []
    },
    {
      "cell_type": "code",
      "source": [
        "####Question.7.  How do tuples ensure data integrity in Python.\n",
        "\n",
        "####Answer. 1. Immutability\n",
        "#Tuples in Python are immutable, meaning that once a tuple is created, its data cannot be changed, added, or removed. This immutability ensures data integrity by preventing accidental or unintended modifications to the tuple's content. Since the elements within a tuple cannot be altered, you can be confident that the data remains consistent throughout the program.\n",
        "\n",
        "#2. Protecting Against Unintentional Changes Because tuples are immutable, any attempt to modify an element or structure will result in an error, preventing the program from unintentionally altering critical data. This is particularly important in situations where data should remain constant, such as when representing coordinates, fixed records, or keys in a dictionary.\n",
        "\n",
        "#3. Hashing and Stability\n",
        "#Tuples can be used as keys in dictionaries because they are hashable. A tuple’s immutability ensures that its hash value remains constant, making it a stable identifier. This is crucial for data integrity when tuples are used as keys in data structures that rely on hash values, such as dictionaries and sets.\n",
        "\n",
        "#4. Safe Data Transfer\n",
        "#Since tuples cannot be modified, they are often used to safely transfer data between functions or modules without worrying about side effects. For example, returning multiple values from a function is a common use case for tuples, ensuring that the returned data is not modified during the process.\n",
        "\n",
        "#5. Preventing Data Corruption\n",
        "#By being immutable, tuples safeguard against accidental data corruption. For example, in multi-threaded applications, tuples provide a reliable way to share data across threads, as they cannot be modified by one thread while being accessed by another.\n",
        "\n"
      ],
      "metadata": {
        "id": "RzUkR6IxRLaW"
      },
      "execution_count": null,
      "outputs": []
    },
    {
      "cell_type": "code",
      "source": [
        "####Question.8.  What is a hash table, and how does it relate to dictionaries in Python\n",
        "\n",
        "####Answer. A hash table is a data structure that stores data in a key-value pair format. It works by applying a hash function to the key to compute a unique hash value (an integer), which determines the index where the corresponding value is stored in the underlying array. Hash tables provide fast access to values based on keys, typically with constant-time complexity (O(1)) for lookups, insertions, and deletions, assuming good distribution of hash values.\n",
        "\n",
        "#In Python, dictionaries are implemented using hash tables. This means that when you use a dictionary to store key-value pairs, the keys are hashed using a hash function, and the corresponding values are stored at the index determined by the hash.\n",
        "\n",
        "#Keys: In Python dictionaries, the keys are passed through a hash function. The resulting hash value determines where the value corresponding to that key will be stored in memory.\n",
        "\n",
        "#Constant-Time Operations: Python dictionaries provide average O(1) time complexity for operations like lookups (key in dict), insertions (dict[key] = value), and deletions (del dict[key]) because they rely on hash tables for efficient key access.\n",
        "\n",
        "#Collisions: When two keys produce the same hash value, Python's dictionary implementation resolves collisions by using open addressing (probing for the next available slot).\n",
        "\n",
        "#Hashable Keys: Since hash tables require the key to be hashed, keys in Python dictionaries must be hashable. This means that the keys must be immutable types like strings, integers, or tuples (containing immutable elements).\n"
      ],
      "metadata": {
        "id": "fkpOymGTRqJ0"
      },
      "execution_count": null,
      "outputs": []
    },
    {
      "cell_type": "code",
      "source": [
        "####Question.9.  Can lists contain different data types in Python?\n",
        "\n",
        "####Answer. Yes, lists in Python can contain different data types. A Python list is a heterogeneous container, meaning it can store elements of various data types within the same list. This includes data types such as integers, strings, floats, booleans, other lists, tuples, dictionaries, and even custom objects.\n",
        "\n",
        "#Flexibility: You can store different types of data together in a single list.\n",
        "\n",
        "#Convenience: Useful when you need to manage a collection of related but differently-typed data.\n",
        "\n",
        "#Dynamic: Elements can be added, removed, or changed at any time without type restrictions.\n",
        "\n"
      ],
      "metadata": {
        "id": "wVFO6cd9Thz0"
      },
      "execution_count": null,
      "outputs": []
    },
    {
      "cell_type": "code",
      "source": [
        "####Question.10.  Explain why strings are immutable in Python\n",
        "\n",
        "####Answer. Strings in Python are immutable, meaning that once a string is created, its contents cannot be changed. This immutability is a design decision that provides several benefits in terms of performance, safety, and memory management. Here’s a deeper look at why strings are immutable in Python:\n",
        "\n",
        "#Immutability allows Python to optimize memory usage and performance. When a string is created, Python can reuse the memory for identical string values instead of creating a new object every time. This process is known as interning, where Python stores a single copy of identical strings.\n",
        "\n",
        "#Since immutable objects can be safely shared between different parts of a program, Python doesn't need to create a new copy each time a string is referenced, leading to lower memory overhead and faster comparisons between strings.\n",
        "\n",
        "#Since strings cannot be altered, Python can optimize memory allocation and garbage collection. The memory footprint of strings is stable, meaning once a string is created, it does not need to be reallocated or adjusted, making it easier for the Python interpreter to manage memory efficiently.\n",
        "\n",
        "#The immutability of strings in Python is a deliberate design decision that provides performance benefits, data consistency, thread safety, and better memory management. By making strings immutable, Python simplifies many common programming tasks and ensures that string data remains reliable and efficient in a variety of use cases.\n"
      ],
      "metadata": {
        "id": "bLq1CelUT-0Z"
      },
      "execution_count": null,
      "outputs": []
    },
    {
      "cell_type": "code",
      "source": [
        "####Question.11.  What advantages do dictionaries offer over lists for certain tasks\n",
        "\n",
        "####Answer. Dictionaries offer several key advantages over lists for certain tasks due to their underlying hash table implementation. These advantages stem from how dictionaries are structured and how they allow for efficient data retrieval, insertion, and modification. Here’s a breakdown of the main advantages dictionaries have over lists in specific scenarios:\n",
        "\n",
        "#Dictionaries can store complex data structures by using other dictionaries, lists, or tuples as values. This allows you to represent more complex relationships, such as nested data, hierarchical structures, or multidimensional mappings.\n",
        "\n",
        "#Dictionaries scale better for large datasets because they provide fast key-based access and are optimized for quick lookups and insertions.\n",
        "\n",
        "#Dictionaries make it easy to update the value of an existing key efficiently. The operation is constant-time (O(1)) for updating the value.\n",
        "\n",
        "#Dictionaries automatically ensure that keys are unique. If you try to add a duplicate key, it will overwrite the existing value associated with that key.\n",
        "\n",
        "#Dictionaries store data as key-value pairs, which makes them ideal for situations where each piece of data has a specific identifier or attribute (key) associated with it. This allows for clearer relationships between data.\n",
        "\n",
        "#Dictionaries provide constant-time access (O(1)) for retrieving a value based on its key, regardless of the size of the dictionary. This is because dictionaries use a hash table that maps keys to specific memory locations.\n"
      ],
      "metadata": {
        "id": "XAt6teLzUpLE"
      },
      "execution_count": null,
      "outputs": []
    },
    {
      "cell_type": "code",
      "source": [
        "###Question.12.  Describe a scenario where using a tuple would be preferable over a list\n",
        "\n",
        "##Answer. In scenarios where the data is constant and should remain unchanged, such as storing geographical coordinates or fixed configuration values, a tuple is preferable. Its immutability, performance benefits, and clear semantic meaning make it an ideal choice for such use cases.\n",
        "\n",
        "#Since tuples are immutable, once you store the coordinates in a tuple, they cannot be altered accidentally. This ensures that the latitude and longitude values remain constant, preserving the integrity of the data. For example:\n",
        "\n",
        "#Tuples are hashable, which means they can be used as keys in dictionaries or as elements in sets. If you want to map the coordinates to some other data (like the name of the place), you can use the tuple as a dictionary key:\n",
        "\n",
        "#Tuples are generally more memory-efficient and faster than lists because of their immutability. If you're only storing simple, fixed data like coordinates, the performance benefits of using a tuple are evident, especially if you need to store a large number of such values."
      ],
      "metadata": {
        "id": "H1yUzJKoVVsi"
      },
      "execution_count": null,
      "outputs": []
    },
    {
      "cell_type": "code",
      "source": [
        "###Question.13.  How do sets handle duplicate values in Python.\n",
        "\n",
        "##Answer. A set in Python is a collection that automatically removes duplicate values. Sets are unordered and only store unique elements. If you try to add an element to a set that already exists in the set, it will not be added again. This is because sets are designed to maintain uniqueness and avoid duplication.\n",
        "\n",
        "#Uniqueness: A set will always only contain one instance of each element. Even if you attempt to add duplicate values, they will be ignored.\n",
        "\n",
        "#No Duplicates Allowed: If you add the same item to a set multiple times, the set will only keep one occurrence of that item.\n",
        "\n",
        "#Set Operations and Duplicates: If you perform operations like union or intersection on sets, the result will automatically be unique. For example:\n",
        "\n",
        "#Sets automatically handle duplicates by ensuring that only unique elements are stored. If you attempt to add a duplicate element to a set, it simply ignores the duplicate. This property makes sets particularly useful for operations where you need to ensure that all elements are unique or when working with large datasets and performing mathematical operations like union and intersection.\n",
        "\n"
      ],
      "metadata": {
        "id": "NrH87sOxV0Ri"
      },
      "execution_count": null,
      "outputs": []
    },
    {
      "cell_type": "code",
      "source": [
        "###Question.14.  How does the “in” keyword work differently for lists and dictionaries\n",
        "\n",
        "###Answer. The in keyword is used to check for membership in a collection. However, its behavior and performance differ depending on whether it is used with a list or a dictionary.\n",
        "\n",
        "#When used with a list, the in keyword checks if a given element exists anywhere in the list.\n",
        "\n",
        "#This involves iterating through the entire list (a linear search), which has a time complexity of O(n) in the worst case.\n",
        "\n",
        "#Use in with lists when checking for the presence of a value, but be mindful that it requires scanning the entire list in the worst case.\n",
        "\n",
        "#Use in with dictionaries for fast lookups of keys, as it takes advantage of hash tables for quick membership checks."
      ],
      "metadata": {
        "id": "nP4aB9LhXai2"
      },
      "execution_count": 1,
      "outputs": []
    },
    {
      "cell_type": "code",
      "source": [
        "###Question.15.  Can you modify the elements of a tuple? Explain why or why not\n",
        "\n",
        "###Answer. No, you cannot modify the elements of a tuple in Python because tuples are immutable. Once a tuple is created, its elements cannot be changed, added, or removed.\n",
        "\n",
        "#Since tuples cannot be modified, Python can store them more efficiently, making them faster than lists in some cases.\n",
        "#The immutability allows Python to use optimizations like interning and caching, reducing memory usage.\n",
        "#Immutability ensures that once data is set, it cannot be changed accidentally.\n",
        "#This is especially useful in scenarios where you need fixed, constant values (e.g., database records, coordinates, or configuration settings).\n",
        "#Tuples can be used as keys in dictionaries and elements in sets because they are immutable.\n",
        "#Lists, on the other hand, cannot be used as dictionary keys because they are mutable."
      ],
      "metadata": {
        "id": "PNeVzm6KmtFq"
      },
      "execution_count": 2,
      "outputs": []
    },
    {
      "cell_type": "code",
      "source": [
        "###Question.16.  What is a nested dictionary, and give an example of its use case\n",
        "\n",
        "###Answer. A nested dictionary in Python is a dictionary that contains another dictionary as a value. This allows data to be structured hierarchically, making it easier to organize and access complex information.\n",
        "\n",
        "# A common use case for a nested dictionary is storing employee records in a\n",
        "# company. Each employee has multiple attributes (like name, age, and position),\n",
        "# which can be stored in an inner dictionary.\n",
        "\n",
        "#Nested dictionaries are widely used in databases, configuration files, JSON data structures, and APIs where hierarchical relationships exist.\n",
        "\n",
        "\n"
      ],
      "metadata": {
        "id": "mcz5hAGbnvEd"
      },
      "execution_count": 3,
      "outputs": []
    },
    {
      "cell_type": "code",
      "source": [
        "##Question.17.  Describe the time complexity of accessing elements in a dictionary\n",
        "\n",
        "##Answer. In Python, dictionaries use a hash table for storing key-value pairs, which allows for fast access to elements. The time complexity of accessing an element in a dictionary depends on whether the key is present and how well the hash function distributes keys.\n",
        "\n",
        "#When accessing an element using its key, Python computes the hash of the key and looks it up in the underlying hash table.\n",
        "#Since hash table lookups typically take constant time, retrieving an element (e.g., dict[key]) is an O(1) operation in most cases.\n",
        "# Dictionaries provide fast lookups in O(1) time on average due to their hash\n",
        "# table implementation, making them highly efficient for accessing elements by\n",
        "# key. However, in rare cases of excessive hash collisions, lookup time can\n",
        "# degrade to O(n), but Python's internal optimizations keep this minimal.\n"
      ],
      "metadata": {
        "id": "Trrbr3ITs3nl"
      },
      "execution_count": 5,
      "outputs": []
    },
    {
      "cell_type": "code",
      "source": [
        "##Question. 18.  In what situations are lists preferred over dictionaries\n",
        "\n",
        "##Answer. Although dictionaries offer fast lookups and key-based access, lists are more suitable in certain situations. Here are some cases where lists are preferred over dictionaries:\n",
        "\n",
        "#Maintaining Order\n",
        "#Lists are ideal for storing homogeneous, sequential data where values are not associated with specific keys.\n",
        "#Lists allow efficient iteration and direct index-based access.\n",
        "#Dictionaries require keys, whereas lists store only values, making them simpler for use cases where keys are unnecessary.\n",
        "#You need to preserve order (especially before Python 3.7).\n",
        "#The data is sequential and doesn’t require key-value pairs.\n",
        "#You need fast iteration and index-based access.\n",
        "#Memory efficiency is a concern.\n",
        "#Frequent lookups by a key are not required."
      ],
      "metadata": {
        "id": "Jv2I1leytPn6"
      },
      "execution_count": 6,
      "outputs": []
    },
    {
      "cell_type": "code",
      "source": [
        "##Question. 19.  Why are dictionaries considered unordered, and how does that affect data retrieval\n",
        "\n",
        "# Answer. Dictionaries were originally unordered due to their hash table\n",
        "# implementation, meaning element order could not be predicted. However, since\n",
        "# Python 3.7, dictionaries maintain insertion order, making them more\n",
        "# predictable when iterating. Despite this, retrieval of elements by key remains\n",
        "# an O(1) operation due to hash table efficiency.\n",
        "\n"
      ],
      "metadata": {
        "id": "UYKB3_Bntx2X"
      },
      "execution_count": 7,
      "outputs": []
    },
    {
      "cell_type": "code",
      "source": [
        "##Question. 20.  Explain the difference between a list and a dictionary in terms of data retrieval.\n",
        "\n",
        "# #Answer. A list retrieves data based on its index, meaning elements are\n",
        "# accessed by their position. This makes retrieving an element using its index\n",
        "# an O(1) operation, but searching for a specific value requires scanning the\n",
        "# entire list, resulting in an O(n) time complexity in the worst case. In\n",
        "# contrast, a dictionary retrieves data based on keys, allowing for O(1)\n",
        "# average-time lookups since it uses a hash table for efficient key-based\n",
        "# access. However, searching for a value in a dictionary still requires scanning\n",
        "# all values, making it an O(n) operation. Lists are preferable when maintaining\n",
        "# order and index-based access is needed, while dictionaries are superior when\n",
        "# fast lookups and key-value relationships are required. Additionally,\n",
        "# dictionaries are more efficient for large datasets where quick access to\n",
        "# elements by key is necessary, whereas lists are better suited for ordered\n",
        "# collections where positional access is the primary method of retrieval.\n",
        "\n"
      ],
      "metadata": {
        "id": "-MHSjD8HwDe2"
      },
      "execution_count": 8,
      "outputs": []
    },
    {
      "cell_type": "code",
      "source": [
        "############################---PRACTICAL QUESTIONS---##########################"
      ],
      "metadata": {
        "id": "qGjIOieowkdK"
      },
      "execution_count": 9,
      "outputs": []
    },
    {
      "cell_type": "code",
      "source": [
        "#Question.1.  Write a code to create a string with your name and print it.\n",
        "str_name =\"Guneesh katyal\"\n",
        "str_name"
      ],
      "metadata": {
        "colab": {
          "base_uri": "https://localhost:8080/",
          "height": 36
        },
        "id": "XxNTY6p1wodC",
        "outputId": "5f6b92aa-7fbf-42f2-b6e3-3d2e57705a2a"
      },
      "execution_count": 10,
      "outputs": [
        {
          "output_type": "execute_result",
          "data": {
            "text/plain": [
              "'Guneesh katyal'"
            ],
            "application/vnd.google.colaboratory.intrinsic+json": {
              "type": "string"
            }
          },
          "metadata": {},
          "execution_count": 10
        }
      ]
    },
    {
      "cell_type": "code",
      "source": [
        "#Question.2.  Write a code to find the length of the string \"Hello World\"\n",
        "a= \"Hello world\"\n",
        "len(a)"
      ],
      "metadata": {
        "colab": {
          "base_uri": "https://localhost:8080/"
        },
        "id": "QFm0RAEixJ2S",
        "outputId": "a4c67226-179b-4286-c8de-18282cf7f4a6"
      },
      "execution_count": 11,
      "outputs": [
        {
          "output_type": "execute_result",
          "data": {
            "text/plain": [
              "11"
            ]
          },
          "metadata": {},
          "execution_count": 11
        }
      ]
    },
    {
      "cell_type": "code",
      "source": [
        "#Question.3.  Write a code to slice the first 3 characters from the string \"Python Programming\"\n",
        "a1=\"Python Programming\"\n",
        "a1[0:3]"
      ],
      "metadata": {
        "colab": {
          "base_uri": "https://localhost:8080/",
          "height": 36
        },
        "id": "EtpWjBsWxfyr",
        "outputId": "c6f70c61-189f-48d9-dbc0-de3b676f1505"
      },
      "execution_count": 12,
      "outputs": [
        {
          "output_type": "execute_result",
          "data": {
            "text/plain": [
              "'Pyt'"
            ],
            "application/vnd.google.colaboratory.intrinsic+json": {
              "type": "string"
            }
          },
          "metadata": {},
          "execution_count": 12
        }
      ]
    },
    {
      "cell_type": "code",
      "source": [
        "#Question. 4.  Write a code to convert the string \"hello\" to uppercase\n",
        "a2=\"hello\"\n",
        "a2.upper()\n"
      ],
      "metadata": {
        "colab": {
          "base_uri": "https://localhost:8080/",
          "height": 36
        },
        "id": "W7ybxcaICm9I",
        "outputId": "8dd11c91-85a8-463f-f8f2-9332a3aa1543"
      },
      "execution_count": 13,
      "outputs": [
        {
          "output_type": "execute_result",
          "data": {
            "text/plain": [
              "'HELLO'"
            ],
            "application/vnd.google.colaboratory.intrinsic+json": {
              "type": "string"
            }
          },
          "metadata": {},
          "execution_count": 13
        }
      ]
    },
    {
      "cell_type": "code",
      "source": [
        "#Question.5.  Write a code to replace the word \"apple\" with \"orange\" in the string \"I like apple\"\n",
        "a3=\"I like apple\"\n",
        "a3.replace(\"apple\",\"orange\")"
      ],
      "metadata": {
        "colab": {
          "base_uri": "https://localhost:8080/",
          "height": 36
        },
        "id": "QTz3dIMjC_s4",
        "outputId": "0c386500-c69a-4b1c-d9a5-e822bcde7a83"
      },
      "execution_count": 16,
      "outputs": [
        {
          "output_type": "execute_result",
          "data": {
            "text/plain": [
              "'I like orange'"
            ],
            "application/vnd.google.colaboratory.intrinsic+json": {
              "type": "string"
            }
          },
          "metadata": {},
          "execution_count": 16
        }
      ]
    },
    {
      "cell_type": "code",
      "source": [
        "#Question. 6.  Write a code to create a list with numbers 1 to 5 and print it.\n",
        "b=[1,2,3,4,5]\n",
        "print(b)"
      ],
      "metadata": {
        "colab": {
          "base_uri": "https://localhost:8080/"
        },
        "id": "i9No_uc2Df-e",
        "outputId": "cfacebfa-aff0-4137-82d1-dcfe0b440807"
      },
      "execution_count": 17,
      "outputs": [
        {
          "output_type": "stream",
          "name": "stdout",
          "text": [
            "[1, 2, 3, 4, 5]\n"
          ]
        }
      ]
    },
    {
      "cell_type": "code",
      "source": [
        " #Question. 7. Write a code to append the number 10 to the list [1, 2, 3, 4].\n",
        " b1=[1,2,3,4]\n",
        " b1.append(10)\n",
        " b1"
      ],
      "metadata": {
        "colab": {
          "base_uri": "https://localhost:8080/"
        },
        "id": "bu1HU9ynFXH1",
        "outputId": "34a52e62-c657-460d-d5de-17f2f199b00d"
      },
      "execution_count": 21,
      "outputs": [
        {
          "output_type": "execute_result",
          "data": {
            "text/plain": [
              "[1, 2, 3, 4, 10]"
            ]
          },
          "metadata": {},
          "execution_count": 21
        }
      ]
    },
    {
      "cell_type": "code",
      "source": [
        "#Question. 8.  Write a code to remove the number 3 from the list [1, 2, 3, 4, 5].\n",
        "b2=[1, 2, 3, 4, 5]\n",
        "b2.remove(3)\n",
        "b2"
      ],
      "metadata": {
        "colab": {
          "base_uri": "https://localhost:8080/"
        },
        "id": "vK-qM0pSGMfq",
        "outputId": "49514ec5-823d-4b3d-aaf2-0d97ed0fb94c"
      },
      "execution_count": 24,
      "outputs": [
        {
          "output_type": "execute_result",
          "data": {
            "text/plain": [
              "[1, 2, 4, 5]"
            ]
          },
          "metadata": {},
          "execution_count": 24
        }
      ]
    },
    {
      "cell_type": "code",
      "source": [
        "#Question. 9.  Write a code to access the second element in the list ['a', 'b', 'c', 'd'].\n",
        "b3=['a', 'b', 'c', 'd']\n",
        "b3[1]"
      ],
      "metadata": {
        "colab": {
          "base_uri": "https://localhost:8080/",
          "height": 36
        },
        "id": "41wUIm7hGhok",
        "outputId": "35b76b73-b2c9-437b-e81c-c7ae63b64c68"
      },
      "execution_count": 25,
      "outputs": [
        {
          "output_type": "execute_result",
          "data": {
            "text/plain": [
              "'b'"
            ],
            "application/vnd.google.colaboratory.intrinsic+json": {
              "type": "string"
            }
          },
          "metadata": {},
          "execution_count": 25
        }
      ]
    },
    {
      "cell_type": "code",
      "source": [
        "#Question. 10.  Write a code to reverse the list [10, 20, 30, 40, 50].\n",
        "b4=[10, 20, 30, 40, 50]\n",
        "b4[::-1]\n"
      ],
      "metadata": {
        "colab": {
          "base_uri": "https://localhost:8080/"
        },
        "id": "ioDPjyLeHENS",
        "outputId": "95a15151-1273-4b6e-98ce-36e2d95b6110"
      },
      "execution_count": 26,
      "outputs": [
        {
          "output_type": "execute_result",
          "data": {
            "text/plain": [
              "[50, 40, 30, 20, 10]"
            ]
          },
          "metadata": {},
          "execution_count": 26
        }
      ]
    },
    {
      "cell_type": "code",
      "source": [
        "#Question. 11. Write a code to create a tuple with the elements 10, 20, 30 and print it.\n",
        "t=(10,20,30)\n",
        "print(t)"
      ],
      "metadata": {
        "colab": {
          "base_uri": "https://localhost:8080/"
        },
        "id": "UmmEV2SiHgWV",
        "outputId": "aeacb406-d481-470c-9356-6e6dcfccda8f"
      },
      "execution_count": 36,
      "outputs": [
        {
          "output_type": "stream",
          "name": "stdout",
          "text": [
            "(10, 20, 30)\n"
          ]
        }
      ]
    },
    {
      "cell_type": "code",
      "source": [
        "#Question. 12. Write a code to access the first element of the tuple ('apple', 'banana', 'cherry').\n",
        "t1=('apple', 'banana', 'cherry')\n",
        "t1[0]"
      ],
      "metadata": {
        "colab": {
          "base_uri": "https://localhost:8080/",
          "height": 36
        },
        "id": "ZfOe5CWVKhzG",
        "outputId": "6c6a1f5e-d1ac-4d6c-bbc1-d760a64853d8"
      },
      "execution_count": 28,
      "outputs": [
        {
          "output_type": "execute_result",
          "data": {
            "text/plain": [
              "'apple'"
            ],
            "application/vnd.google.colaboratory.intrinsic+json": {
              "type": "string"
            }
          },
          "metadata": {},
          "execution_count": 28
        }
      ]
    },
    {
      "cell_type": "code",
      "source": [
        "#Question. 13. Write a code to count how many times the number 2 appears in the tuple (1, 2, 3, 2, 4, 2).\n",
        "t3=(1, 2, 3, 2, 4, 2)\n",
        "t3.count(2)"
      ],
      "metadata": {
        "colab": {
          "base_uri": "https://localhost:8080/"
        },
        "id": "hUFmXKVSLQ0W",
        "outputId": "8c732c4f-2297-4d28-982e-885604dc2541"
      },
      "execution_count": 29,
      "outputs": [
        {
          "output_type": "execute_result",
          "data": {
            "text/plain": [
              "3"
            ]
          },
          "metadata": {},
          "execution_count": 29
        }
      ]
    },
    {
      "cell_type": "code",
      "source": [
        "#Question. 14. Write a code to find the index of the element \"cat\" in the tuple ('dog', 'cat', 'rabbit').\n",
        "t4=('dog', 'cat', 'rabbit')\n",
        "t4.index('cat')"
      ],
      "metadata": {
        "colab": {
          "base_uri": "https://localhost:8080/"
        },
        "id": "dagGujvALhO0",
        "outputId": "35630d4d-d770-487b-8022-3ce5966cbaf3"
      },
      "execution_count": 30,
      "outputs": [
        {
          "output_type": "execute_result",
          "data": {
            "text/plain": [
              "1"
            ]
          },
          "metadata": {},
          "execution_count": 30
        }
      ]
    },
    {
      "cell_type": "code",
      "source": [
        "#Question. 15. Write a code to check if the element \"banana\" is in the tuple ('apple', 'orange', 'banana').\n",
        "t5=('apple', 'orange', 'banana')\n",
        "'banana' in t5"
      ],
      "metadata": {
        "colab": {
          "base_uri": "https://localhost:8080/"
        },
        "id": "rtgcB3r4LwtN",
        "outputId": "92cf81f8-71dd-4585-ea92-d0f0eb866807"
      },
      "execution_count": 31,
      "outputs": [
        {
          "output_type": "execute_result",
          "data": {
            "text/plain": [
              "True"
            ]
          },
          "metadata": {},
          "execution_count": 31
        }
      ]
    },
    {
      "cell_type": "code",
      "source": [
        "#Question. 16. Write a code to create a set with the elements 1, 2, 3, 4, 5 and print it.\n",
        "s={1, 2, 3, 4, 5}\n",
        "print(s)"
      ],
      "metadata": {
        "colab": {
          "base_uri": "https://localhost:8080/"
        },
        "id": "9cqTaVKzMwLu",
        "outputId": "d56aa928-66c6-4f16-8d2b-b1d62290eb47"
      },
      "execution_count": 32,
      "outputs": [
        {
          "output_type": "stream",
          "name": "stdout",
          "text": [
            "{1, 2, 3, 4, 5}\n"
          ]
        }
      ]
    },
    {
      "cell_type": "code",
      "source": [
        "#Question. 17. Write a code to add the element 6 to the set {1, 2, 3, 4}.\n",
        "s1={1, 2, 3, 4}\n",
        "s1.add(6)\n",
        "print(s1)"
      ],
      "metadata": {
        "colab": {
          "base_uri": "https://localhost:8080/"
        },
        "id": "uTKYhtfvM6bN",
        "outputId": "b8f9cdcc-95ee-4b43-f59f-0fe574e71ca3"
      },
      "execution_count": 35,
      "outputs": [
        {
          "output_type": "stream",
          "name": "stdout",
          "text": [
            "{1, 2, 3, 4, 6}\n"
          ]
        }
      ]
    },
    {
      "cell_type": "code",
      "source": [
        "#Question.18. Write a code to create a tuple with the elements 10, 20, 30 and print it.\n",
        "t=(10,20,30)\n",
        "print(t)"
      ],
      "metadata": {
        "colab": {
          "base_uri": "https://localhost:8080/"
        },
        "id": "-B3c_uYaNc14",
        "outputId": "4647fe0e-b564-4d5f-f26b-9e41f3ff3ef3"
      },
      "execution_count": 37,
      "outputs": [
        {
          "output_type": "stream",
          "name": "stdout",
          "text": [
            "(10, 20, 30)\n"
          ]
        }
      ]
    },
    {
      "cell_type": "code",
      "source": [
        "#Question. 19. Write a code to access the first element of the tuple ('apple', 'banana', 'cherry').\n",
        "t1=('apple', 'banana', 'cherry')\n",
        "t1[0]"
      ],
      "metadata": {
        "colab": {
          "base_uri": "https://localhost:8080/",
          "height": 36
        },
        "id": "AsORxPokOjaw",
        "outputId": "c6c5a6e4-9887-405d-eedb-4d896fd2b8c5"
      },
      "execution_count": 38,
      "outputs": [
        {
          "output_type": "execute_result",
          "data": {
            "text/plain": [
              "'apple'"
            ],
            "application/vnd.google.colaboratory.intrinsic+json": {
              "type": "string"
            }
          },
          "metadata": {},
          "execution_count": 38
        }
      ]
    },
    {
      "cell_type": "code",
      "source": [
        "#Question. 20. Write a code to count how many times the number 2 appears in the tuple (1, 2, 3, 2, 4, 2).\n",
        "t3=(1, 2, 3, 2, 4, 2)\n",
        "t3.count(2)"
      ],
      "metadata": {
        "colab": {
          "base_uri": "https://localhost:8080/"
        },
        "id": "bafB47HhOOpB",
        "outputId": "c0def039-14bb-4748-be82-526ec4ee05d0"
      },
      "execution_count": 39,
      "outputs": [
        {
          "output_type": "execute_result",
          "data": {
            "text/plain": [
              "3"
            ]
          },
          "metadata": {},
          "execution_count": 39
        }
      ]
    },
    {
      "cell_type": "code",
      "source": [
        "#Same questions repeating now.\n",
        "#################################----END OF ASSIGNMENT----#########################"
      ],
      "metadata": {
        "id": "YbaCExtWO74n"
      },
      "execution_count": null,
      "outputs": []
    }
  ]
}